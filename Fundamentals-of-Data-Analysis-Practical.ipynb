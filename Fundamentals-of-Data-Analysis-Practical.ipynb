{
 "cells": [
  {
   "cell_type": "markdown",
   "metadata": {},
   "source": [
    "![title](img/Anscombe.jpg)"
   ]
  },
  {
   "cell_type": "markdown",
   "metadata": {},
   "source": [
    "##### Francis John Anscombe was born in Elstree, England on May 13, 1918. He received his B.A. degree from Cambridge University in 1939, and his M.A. degree in 1943. Anscombe was with the British Ministry of Supply from 1940-1945, and the Rothamsted Experimental Station from 1945-1947. He was a lecturer in math at Cambridge from 1948-1956, and a research associate, associate professor, and professor at Princeton from 1953-1963. Anscombe joined the faculty of Yale as a professor of statistics in 1963. (Yale University Library)"
   ]
  },
  {
   "cell_type": "markdown",
   "metadata": {},
   "source": [
    "# Fundaments of Data Analysis - Practical Assignment 2018\n",
    "\n",
    "## Problem Statement\n",
    "### The assignment concerns the well-known Anscombe's quartete dataset. You are required to create a Jupter notebook analysing the dataset. There are four distinct tasks to be carried out in your Jupyter notebook.\n",
    "\n",
    "\n",
    "1. Explain the background to the dataset - who created it, when it was created, and any speculation you can find regarding how it might have been created.\n",
    "\n",
    "2. Plot the interesting aspects of the dataset.\n",
    "\n",
    "3. Calculate the descriptive statistics of the variables in the dataset.\n",
    "\n",
    "4. Explain why the dataset is interesting, referring to the plots and statistics above. "
   ]
  },
  {
   "cell_type": "code",
   "execution_count": null,
   "metadata": {},
   "outputs": [],
   "source": []
  }
 ],
 "metadata": {
  "kernelspec": {
   "display_name": "Python 3",
   "language": "python",
   "name": "python3"
  },
  "language_info": {
   "codemirror_mode": {
    "name": "ipython",
    "version": 3
   },
   "file_extension": ".py",
   "mimetype": "text/x-python",
   "name": "python",
   "nbconvert_exporter": "python",
   "pygments_lexer": "ipython3",
   "version": "3.7.0"
  }
 },
 "nbformat": 4,
 "nbformat_minor": 2
}
