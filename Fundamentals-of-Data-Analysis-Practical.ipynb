{
 "cells": [
  {
   "cell_type": "markdown",
   "metadata": {},
   "source": [
    "![title](img/Anscombe.jpg)"
   ]
  },
  {
   "cell_type": "markdown",
   "metadata": {},
   "source": [
    "##### Francis John Anscombe was born in Elstree, England on May 13, 1918. He received his B.A. degree from Cambridge University in 1939, and his M.A. degree in 1943. Anscombe was with the British Ministry of Supply from 1940-1945, and the Rothamsted Experimental Station from 1945-1947. He was a lecturer in math at Cambridge from 1948-1956, and a research associate, associate professor, and professor at Princeton from 1953-1963. Anscombe joined the faculty of Yale as a professor of statistics in 1963. \n",
    "\n",
    "###### (Yale University Library)"
   ]
  },
  {
   "cell_type": "markdown",
   "metadata": {},
   "source": [
    "# Fundaments of Data Analysis - Practical Assignment 2018\n",
    "\n",
    "## Problem Statement\n",
    "### The assignment concerns the well-known Anscombe's quartete dataset. You are required to create a Jupter notebook analysing the dataset. There are four distinct tasks to be carried out in your Jupyter notebook.\n",
    "\n",
    "\n",
    "1. Explain the background to the dataset - who created it, when it was created, and any speculation you can find regarding how it might have been created.\n",
    "\n",
    "2. Plot the interesting aspects of the dataset.\n",
    "\n",
    "3. Calculate the descriptive statistics of the variables in the dataset.\n",
    "\n",
    "4. Explain why the dataset is interesting, referring to the plots and statistics above. "
   ]
  },
  {
   "cell_type": "markdown",
   "metadata": {},
   "source": [
    "### Task 1\n",
    "\n",
    "#### Explain the background to the dataset - who created it, when it was created, and any speculation you can find regarding how it might have been created.\n"
   ]
  },
  {
   "cell_type": "markdown",
   "metadata": {},
   "source": [
    "Anscombe's quartet was first published in The American Statistician, Vol. 27, No. 1 (Feb., 1973), pp.17 - 21 in an article called 'Graphs for Statistical Analysis' by the author of the same name. F. J. Anscombe.\n",
    "\n",
    "In that article Anscombe proposes that statistical analysis that rely solely on mathematical calculations can lead to errors. Anscombe strongly and passionately argued that the use of graphs was undervalued and they provide insights into the data that could be otherwise missed. He produced 4 datasets (latterly referred to as Anscombe's 'Quartet') each containing 11 (x, y) pairs. \n",
    "\n",
    "Anscombe did not revel how he created his data set, methods for replicating his calculations have been proposed by many, including: Chatterjee, Sangit & Firat, Aykut in their article \"Generating Data with Identical Statistics but Dissimilar Graphics: A Follow up to the Anscombe Dataset\". American Statistician. 61 (3): 248–254. As well as by S. J. HASLETT & K. GOVINDARAJU in their paper Cloning Data: Generating Datasets with exactly the same multiple linear regression fit. \n",
    "\n",
    "Haslett and Govindaraju based their algorithm on the orthogonality principle, which is a necessary and sufficient condition for the optimality of a Bayesian estimator. In essence one begins with a regression line, then plots x and y values above and below the regression line that negate eachother.\n",
    "\n",
    "Laurant Duval states in his Stack Exchange blog post that: \"in Chatterjee (2007), the purpose is to generate novel (x,y) pairs with the same means and standard deviations from initial dataset, while maximizing different \"discrepancy/ dissimilarity\" objective functions. As these functions can be non-convex or non-differentiable, they use genetic algorithms (GA). Important steps consist in ortho-normalization, which is very consistent with preserving mean and (unit-)variance.\"\n",
    "\n",
    "In their paper titled: Same Stats, Different Graphs: Generating Datasets with Varied Appearance and Identical Statistics through Simulated Annealing, Justin Matejka and George Fitzmaurice state that: \"that while generating a dataset from scratch to have particular statistical properties is relatively difficult, it is relatively easy to take an existing dataset, modify it slightly, and maintain (nearly) the same statistical properties. With repetition, this process creates a dataset with a different visual appearance from the original,while maintaining the same statistical properties\"\n",
    "\n",
    "In conclusion:\n",
    "Advanced mathematical and staticial knowledge is required to reproduce datasets similar to Anscombes' Quartet, that have near identical multiple linear regression equations. And there are practical applications to methods that do so, such as anonymising data to make it look identical but have different structures. \n"
   ]
  },
  {
   "cell_type": "markdown",
   "metadata": {},
   "source": [
    "### Task 2\n",
    "\n",
    "#### Plot the interesting aspects of the data set."
   ]
  },
  {
   "cell_type": "code",
   "execution_count": 77,
   "metadata": {},
   "outputs": [],
   "source": [
    "# import libaries for the analysis\n",
    "import matplotlib.pyplot as plt\n",
    "import pandas as pd\n",
    "import numpy as np"
   ]
  },
  {
   "cell_type": "code",
   "execution_count": 78,
   "metadata": {},
   "outputs": [],
   "source": [
    "# load the data set as df\n",
    "df = pd.read_csv(\"anscombe (1).csv\")"
   ]
  },
  {
   "cell_type": "code",
   "execution_count": 79,
   "metadata": {},
   "outputs": [],
   "source": [
    "# define values for the dataset, note that x1, x2, & x3 are identical an could be consolidated into one function call. \n",
    "x1 = df.loc[:,'x1']\n",
    "y1 = df.loc[:,'y1']\n",
    "x2 = df.loc[:,'x2']\n",
    "y2 = df.loc[:,'y2']\n",
    "x3 = df.loc[:,'x3']\n",
    "y3 = df.loc[:,'y3']\n",
    "x4 = df.loc[:,'x4']\n",
    "y4 = df.loc[:,'y4']"
   ]
  },
  {
   "cell_type": "code",
   "execution_count": 80,
   "metadata": {
    "scrolled": false
   },
   "outputs": [
    {
     "data": {
      "image/png": "[encoded data removed]",
      "text/plain": [
       "<Figure size 432x288 with 4 Axes>"
      ]
     },
     "metadata": {
      "needs_background": "light"
     },
     "output_type": "display_data"
    }
   ],
   "source": [
    "# define a function to create a linear regession line to fit onto each chart\n",
    "def fit(x):\n",
    "    return 3 + 0.5 * x\n",
    "\n",
    "# Set the minimum and maximum points for the regression line. I have set these to the maximum values to better illustate \n",
    "# the charts\n",
    "xfit = np.array([np.min(0), np.max(20)])\n",
    "\n",
    "# create subplots\n",
    "plt.subplot(2, 2, 1)\n",
    "# plot the first of the quartets with a fit line\n",
    "plt.plot(x1, y1, 's', xfit, fit(xfit), 'r--', lw=2)\n",
    "# set the scale for the axis\n",
    "plt.axis([2, 20, 2, 14])\n",
    "# label the tick marks axis scale\n",
    "plt.setp(plt.gca(), xticklabels=[], yticks=(4, 8, 12), xticks=(0, 10, 20))\n",
    "# label the subplot\n",
    "plt.text(3, 12, 'I', fontsize=10)\n",
    "\n",
    "plt.subplot(2, 2, 2)\n",
    "plt.plot(x3, y2, 's', xfit, fit(xfit), 'r--', lw=2)\n",
    "plt.axis([2, 20, 2, 14])\n",
    "plt.setp(plt.gca(), xticks=(0, 10, 20), xticklabels=[],\n",
    "         yticks=(4, 8, 12), yticklabels=[], )\n",
    "plt.text(3, 12, 'II', fontsize=10)\n",
    "\n",
    "plt.subplot(2, 2, 3)\n",
    "plt.plot(x3, y3, 's', xfit, fit(xfit), 'r--', lw=2)\n",
    "plt.axis([2, 20, 2, 14])\n",
    "plt.text(3, 12, 'III', fontsize=10)\n",
    "plt.setp(plt.gca(), yticks=(4, 8, 12), xticks=(0, 10, 20))\n",
    "\n",
    "plt.subplot(2, 2, 4)\n",
    "plt.plot(x4, y4, 's', xfit, fit(xfit), 'r--', lw=2)\n",
    "plt.axis([2, 20, 2, 14])\n",
    "plt.setp(plt.gca(), yticklabels=[], yticks=(4, 8, 12), xticks=(0, 10, 20))\n",
    "plt.text(3, 12, \"IV\", fontsize=10)\n",
    "\n",
    "# create an overall label for the charts\n",
    "plt.suptitle(\"Anscombe's Quartet\", fontsize=20)\n",
    "\n",
    "plt.show()\n",
    "\n",
    "# Based on code adapted from https://matplotlib.org/gallery/specialty_plots/anscombe.html "
   ]
  },
  {
   "cell_type": "code",
   "execution_count": 81,
   "metadata": {},
   "outputs": [
    {
     "data": {
      "text/html": [
       "<div>\n",
       "<style scoped>\n",
       "    .dataframe tbody tr th:only-of-type {\n",
       "        vertical-align: middle;\n",
       "    }\n",
       "\n",
       "    .dataframe tbody tr th {\n",
       "        vertical-align: top;\n",
       "    }\n",
       "\n",
       "    .dataframe thead th {\n",
       "        text-align: right;\n",
       "    }\n",
       "</style>\n",
       "<table border=\"1\" class=\"dataframe\">\n",
       "  <thead>\n",
       "    <tr style=\"text-align: right;\">\n",
       "      <th></th>\n",
       "      <th>Unnamed: 0</th>\n",
       "      <th>x1</th>\n",
       "      <th>x2</th>\n",
       "      <th>x3</th>\n",
       "      <th>x4</th>\n",
       "      <th>y1</th>\n",
       "      <th>y2</th>\n",
       "      <th>y3</th>\n",
       "      <th>y4</th>\n",
       "    </tr>\n",
       "  </thead>\n",
       "  <tbody>\n",
       "    <tr>\n",
       "      <th>0</th>\n",
       "      <td>1</td>\n",
       "      <td>10</td>\n",
       "      <td>10</td>\n",
       "      <td>10</td>\n",
       "      <td>8</td>\n",
       "      <td>8.04</td>\n",
       "      <td>9.14</td>\n",
       "      <td>7.46</td>\n",
       "      <td>6.58</td>\n",
       "    </tr>\n",
       "    <tr>\n",
       "      <th>1</th>\n",
       "      <td>2</td>\n",
       "      <td>8</td>\n",
       "      <td>8</td>\n",
       "      <td>8</td>\n",
       "      <td>8</td>\n",
       "      <td>6.95</td>\n",
       "      <td>8.14</td>\n",
       "      <td>6.77</td>\n",
       "      <td>5.76</td>\n",
       "    </tr>\n",
       "    <tr>\n",
       "      <th>2</th>\n",
       "      <td>3</td>\n",
       "      <td>13</td>\n",
       "      <td>13</td>\n",
       "      <td>13</td>\n",
       "      <td>8</td>\n",
       "      <td>7.58</td>\n",
       "      <td>8.74</td>\n",
       "      <td>12.74</td>\n",
       "      <td>7.71</td>\n",
       "    </tr>\n",
       "    <tr>\n",
       "      <th>3</th>\n",
       "      <td>4</td>\n",
       "      <td>9</td>\n",
       "      <td>9</td>\n",
       "      <td>9</td>\n",
       "      <td>8</td>\n",
       "      <td>8.81</td>\n",
       "      <td>8.77</td>\n",
       "      <td>7.11</td>\n",
       "      <td>8.84</td>\n",
       "    </tr>\n",
       "    <tr>\n",
       "      <th>4</th>\n",
       "      <td>5</td>\n",
       "      <td>11</td>\n",
       "      <td>11</td>\n",
       "      <td>11</td>\n",
       "      <td>8</td>\n",
       "      <td>8.33</td>\n",
       "      <td>9.26</td>\n",
       "      <td>7.81</td>\n",
       "      <td>8.47</td>\n",
       "    </tr>\n",
       "    <tr>\n",
       "      <th>5</th>\n",
       "      <td>6</td>\n",
       "      <td>14</td>\n",
       "      <td>14</td>\n",
       "      <td>14</td>\n",
       "      <td>8</td>\n",
       "      <td>9.96</td>\n",
       "      <td>8.10</td>\n",
       "      <td>8.84</td>\n",
       "      <td>7.04</td>\n",
       "    </tr>\n",
       "    <tr>\n",
       "      <th>6</th>\n",
       "      <td>7</td>\n",
       "      <td>6</td>\n",
       "      <td>6</td>\n",
       "      <td>6</td>\n",
       "      <td>8</td>\n",
       "      <td>7.24</td>\n",
       "      <td>6.13</td>\n",
       "      <td>6.08</td>\n",
       "      <td>5.25</td>\n",
       "    </tr>\n",
       "    <tr>\n",
       "      <th>7</th>\n",
       "      <td>8</td>\n",
       "      <td>4</td>\n",
       "      <td>4</td>\n",
       "      <td>4</td>\n",
       "      <td>19</td>\n",
       "      <td>4.26</td>\n",
       "      <td>3.10</td>\n",
       "      <td>5.39</td>\n",
       "      <td>12.50</td>\n",
       "    </tr>\n",
       "    <tr>\n",
       "      <th>8</th>\n",
       "      <td>9</td>\n",
       "      <td>12</td>\n",
       "      <td>12</td>\n",
       "      <td>12</td>\n",
       "      <td>8</td>\n",
       "      <td>10.84</td>\n",
       "      <td>9.13</td>\n",
       "      <td>8.15</td>\n",
       "      <td>5.56</td>\n",
       "    </tr>\n",
       "    <tr>\n",
       "      <th>9</th>\n",
       "      <td>10</td>\n",
       "      <td>7</td>\n",
       "      <td>7</td>\n",
       "      <td>7</td>\n",
       "      <td>8</td>\n",
       "      <td>4.82</td>\n",
       "      <td>7.26</td>\n",
       "      <td>6.42</td>\n",
       "      <td>7.91</td>\n",
       "    </tr>\n",
       "    <tr>\n",
       "      <th>10</th>\n",
       "      <td>11</td>\n",
       "      <td>5</td>\n",
       "      <td>5</td>\n",
       "      <td>5</td>\n",
       "      <td>8</td>\n",
       "      <td>5.68</td>\n",
       "      <td>4.74</td>\n",
       "      <td>5.73</td>\n",
       "      <td>6.89</td>\n",
       "    </tr>\n",
       "  </tbody>\n",
       "</table>\n",
       "</div>"
      ],
      "text/plain": [
       "    Unnamed: 0  x1  x2  x3  x4     y1    y2     y3     y4\n",
       "0            1  10  10  10   8   8.04  9.14   7.46   6.58\n",
       "1            2   8   8   8   8   6.95  8.14   6.77   5.76\n",
       "2            3  13  13  13   8   7.58  8.74  12.74   7.71\n",
       "3            4   9   9   9   8   8.81  8.77   7.11   8.84\n",
       "4            5  11  11  11   8   8.33  9.26   7.81   8.47\n",
       "5            6  14  14  14   8   9.96  8.10   8.84   7.04\n",
       "6            7   6   6   6   8   7.24  6.13   6.08   5.25\n",
       "7            8   4   4   4  19   4.26  3.10   5.39  12.50\n",
       "8            9  12  12  12   8  10.84  9.13   8.15   5.56\n",
       "9           10   7   7   7   8   4.82  7.26   6.42   7.91\n",
       "10          11   5   5   5   8   5.68  4.74   5.73   6.89"
      ]
     },
     "execution_count": 81,
     "metadata": {},
     "output_type": "execute_result"
    }
   ],
   "source": [
    "# Display the dataset\n",
    "df"
   ]
  },
  {
   "cell_type": "code",
   "execution_count": 82,
   "metadata": {},
   "outputs": [
    {
     "data": {
      "text/plain": [
       "x1    9.0\n",
       "x2    9.0\n",
       "x3    9.0\n",
       "x4    9.0\n",
       "dtype: float64"
      ]
     },
     "execution_count": 82,
     "metadata": {},
     "output_type": "execute_result"
    }
   ],
   "source": [
    "# Calculate the mean for each column of x-axis values\n",
    "np.mean(df.iloc[:, 1:5])"
   ]
  },
  {
   "cell_type": "code",
   "execution_count": 83,
   "metadata": {},
   "outputs": [
    {
     "data": {
      "text/plain": [
       "y1    7.500909\n",
       "y2    7.500909\n",
       "y3    7.500000\n",
       "y4    7.500909\n",
       "dtype: float64"
      ]
     },
     "execution_count": 83,
     "metadata": {},
     "output_type": "execute_result"
    }
   ],
   "source": [
    "# Calculate the mean for each column of y-axis values\n",
    "np.mean(df.iloc[:, 5:])"
   ]
  },
  {
   "cell_type": "code",
   "execution_count": 84,
   "metadata": {
    "scrolled": true
   },
   "outputs": [
    {
     "data": {
      "text/plain": [
       "x1    3.162278\n",
       "x2    3.162278\n",
       "x3    3.162278\n",
       "x4    3.162278\n",
       "y1    1.937024\n",
       "y2    1.937109\n",
       "y3    1.935933\n",
       "y4    1.936081\n",
       "dtype: float64"
      ]
     },
     "execution_count": 84,
     "metadata": {},
     "output_type": "execute_result"
    }
   ],
   "source": [
    "# Calculate the standard deviation for each column of x and y values to six decimal places. Exclude the Unnamed: 0 column\n",
    "np.std(df.iloc[:, 1:])"
   ]
  },
  {
   "cell_type": "code",
   "execution_count": 97,
   "metadata": {},
   "outputs": [
    {
     "data": {
      "text/plain": [
       "x1    10.000000\n",
       "x2    10.000000\n",
       "x3    10.000000\n",
       "x4    10.000000\n",
       "y1     3.752063\n",
       "y2     3.752390\n",
       "y3     3.747836\n",
       "y4     3.748408\n",
       "dtype: float64"
      ]
     },
     "execution_count": 97,
     "metadata": {},
     "output_type": "execute_result"
    }
   ],
   "source": [
    "np.var(df.iloc[:, 1:])"
   ]
  },
  {
   "cell_type": "code",
   "execution_count": 95,
   "metadata": {},
   "outputs": [
    {
     "name": "stdout",
     "output_type": "stream",
     "text": [
      "Linear regression line values Quartet I   =  [0.50009091 3.00009091]\n",
      "Linear regression line values Quartet II  =  [0.5        3.00090909]\n",
      "Linear regression line values Quartet III =  [0.49972727 3.00245455]\n",
      "Linear regression line values Quartet IV  =  [0.49972727 3.00245455]\n"
     ]
    }
   ],
   "source": [
    "# Calculating the linear regression (line of best fit) for each dataset follows the equation y = 0.5x + 3\n",
    "Q_1 = np.polyfit(x1, y1, 1)\n",
    "Q_2 = np.polyfit(x2, y2, 1)\n",
    "Q_3 = np.polyfit(x3, y3, 1)\n",
    "Q_4 = np.polyfit(x3, y3, 1)\n",
    "\n",
    "print(\"Linear regression line values Quartet I   = \", Q_1)\n",
    "print(\"Linear regression line values Quartet II  = \", Q_2)\n",
    "print(\"Linear regression line values Quartet III = \", Q_3)\n",
    "print(\"Linear regression line values Quartet IV  = \", Q_4)"
   ]
  },
  {
   "cell_type": "code",
   "execution_count": 94,
   "metadata": {},
   "outputs": [
    {
     "name": "stdout",
     "output_type": "stream",
     "text": [
      "Correlation coefficient: r=0.816421\n",
      "Correlation coefficient: r=0.816237\n",
      "Correlation coefficient: r=0.816287\n",
      "Correlation coefficient: r=0.816521\n"
     ]
    }
   ],
   "source": [
    "# Display descriptive statistics in formated columns to six decimal places\n",
    "pairs = (x1, y1), (x2, y2), (x3, y3), (x4, y4)\n",
    "for x, y in pairs:\n",
    "    print(\"Correlation coefficient: \"'r=%1.6f' % (np.corrcoef(x, y)[0][1]))\n",
    "    \n",
    "# Based on code adapted from https://matplotlib.org/gallery/specialty_plots/anscombe.html "
   ]
  },
  {
   "cell_type": "markdown",
   "metadata": {},
   "source": [
    "### Task 4\n",
    "\n",
    "#### Explain why the dataset is interesting, referring to the plots and statistics above."
   ]
  },
  {
   "cell_type": "markdown",
   "metadata": {},
   "source": [
    "This dataset is interesting because it highlights the importance of plotting in statistical analysis.\n",
    "\n",
    "Each quartet of x, y values has the same mean, standard deviation, variance, linear regression equation (y = 0.5x + 3)\n",
    "and correlation coefficient. These beinging the standard 'go-to' measurements for basic summary statistics. \n",
    "\n",
    "As such presenting only the summary statistics for this dataset one would conclude that the data in each of the quartets is\n",
    "identical to the data in all of the others. \n",
    "\n",
    "When the data is plotted we see the real relationships. The sets of points in Quartet I appear to follow a rough linear relationship above and below the best fit line with some variance. Quartet II is curve that doesn’t follow a linear relationship. Quartet's III and IV look to both show linear relationships except for their outliers. Quartet III having a linear x, y relationship with the exception of one outlier and Quartet IV having only linear x relationship, again with one outlier.\n",
    "\n",
    "In his paper 'Graphs for Statistical Analysis', Anscombe powerfully presented the benefits of visualisation for deeping our understanding of the data being analysed, clearly demonstrating the hazards of not doing so. When he wrote his paper plotting was not widely used by statisticians, the fact that his Quartet is so widely used today is a fitting legacy for his  thinking, that was revolutionary at the time."
   ]
  },
  {
   "cell_type": "markdown",
   "metadata": {},
   "source": [
    "### End"
   ]
  }
 ],
 "metadata": {
  "kernelspec": {
   "display_name": "Python 3",
   "language": "python",
   "name": "python3"
  }
 },
 "nbformat": 4,
 "nbformat_minor": 2
}
